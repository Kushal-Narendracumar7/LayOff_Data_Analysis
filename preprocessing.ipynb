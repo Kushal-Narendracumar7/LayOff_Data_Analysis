{
 "cells": [
  {
   "cell_type": "code",
   "execution_count": 1,
   "metadata": {},
   "outputs": [],
   "source": [
    "import pandas as pd"
   ]
  },
  {
   "cell_type": "code",
   "execution_count": 2,
   "metadata": {},
   "outputs": [
    {
     "data": {
      "text/plain": [
       "['Company',\n",
       " 'Location_HQ',\n",
       " 'Industry',\n",
       " 'Laid_Off_Count',\n",
       " 'Date',\n",
       " 'Source',\n",
       " 'Funds_Raised',\n",
       " 'Stage',\n",
       " 'Date_Added',\n",
       " 'Country',\n",
       " 'Percentage',\n",
       " 'List_of_Employees_Laid_Off']"
      ]
     },
     "execution_count": 2,
     "metadata": {},
     "output_type": "execute_result"
    }
   ],
   "source": [
    "df = pd.read_csv('layoffs_data.csv')\n",
    "df.columns.to_list()"
   ]
  },
  {
   "cell_type": "code",
   "execution_count": 3,
   "metadata": {},
   "outputs": [
    {
     "data": {
      "text/plain": [
       "Company                          0\n",
       "Location_HQ                      0\n",
       "Industry                         0\n",
       "Laid_Off_Count                1253\n",
       "Date                             0\n",
       "Source                           0\n",
       "Funds_Raised                   390\n",
       "Stage                            0\n",
       "Date_Added                       0\n",
       "Country                          0\n",
       "Percentage                    1300\n",
       "List_of_Employees_Laid_Off       0\n",
       "dtype: int64"
      ]
     },
     "execution_count": 3,
     "metadata": {},
     "output_type": "execute_result"
    }
   ],
   "source": [
    "df.isnull().sum()"
   ]
  },
  {
   "cell_type": "code",
   "execution_count": 4,
   "metadata": {},
   "outputs": [
    {
     "name": "stderr",
     "output_type": "stream",
     "text": [
      "C:\\Users\\Lenovo\\AppData\\Local\\Temp\\ipykernel_8388\\507318729.py:1: FutureWarning: A value is trying to be set on a copy of a DataFrame or Series through chained assignment using an inplace method.\n",
      "The behavior will change in pandas 3.0. This inplace method will never work because the intermediate object on which we are setting values always behaves as a copy.\n",
      "\n",
      "For example, when doing 'df[col].method(value, inplace=True)', try using 'df.method({col: value}, inplace=True)' or df[col] = df[col].method(value) instead, to perform the operation inplace on the original object.\n",
      "\n",
      "\n",
      "  per = df['Percentage'].fillna(df['Percentage'].mean(),inplace=True)\n"
     ]
    }
   ],
   "source": [
    "per = df['Percentage'].fillna(df['Percentage'].mean(),inplace=True)\n"
   ]
  },
  {
   "cell_type": "code",
   "execution_count": 5,
   "metadata": {},
   "outputs": [
    {
     "data": {
      "text/plain": [
       "Company                          0\n",
       "Location_HQ                      0\n",
       "Industry                         0\n",
       "Laid_Off_Count                1253\n",
       "Date                             0\n",
       "Source                           0\n",
       "Funds_Raised                   390\n",
       "Stage                            0\n",
       "Date_Added                       0\n",
       "Country                          0\n",
       "Percentage                       0\n",
       "List_of_Employees_Laid_Off       0\n",
       "dtype: int64"
      ]
     },
     "execution_count": 5,
     "metadata": {},
     "output_type": "execute_result"
    }
   ],
   "source": [
    "df.isnull().sum()"
   ]
  },
  {
   "cell_type": "code",
   "execution_count": 6,
   "metadata": {},
   "outputs": [
    {
     "name": "stderr",
     "output_type": "stream",
     "text": [
      "C:\\Users\\Lenovo\\AppData\\Local\\Temp\\ipykernel_8388\\98936989.py:1: FutureWarning: A value is trying to be set on a copy of a DataFrame or Series through chained assignment using an inplace method.\n",
      "The behavior will change in pandas 3.0. This inplace method will never work because the intermediate object on which we are setting values always behaves as a copy.\n",
      "\n",
      "For example, when doing 'df[col].method(value, inplace=True)', try using 'df.method({col: value}, inplace=True)' or df[col] = df[col].method(value) instead, to perform the operation inplace on the original object.\n",
      "\n",
      "\n",
      "  fundraised = df['Funds_Raised'].fillna(0,inplace=True)\n"
     ]
    },
    {
     "data": {
      "text/plain": [
       "Company                          0\n",
       "Location_HQ                      0\n",
       "Industry                         0\n",
       "Laid_Off_Count                1253\n",
       "Date                             0\n",
       "Source                           0\n",
       "Funds_Raised                     0\n",
       "Stage                            0\n",
       "Date_Added                       0\n",
       "Country                          0\n",
       "Percentage                       0\n",
       "List_of_Employees_Laid_Off       0\n",
       "dtype: int64"
      ]
     },
     "execution_count": 6,
     "metadata": {},
     "output_type": "execute_result"
    }
   ],
   "source": [
    "fundraised = df['Funds_Raised'].fillna(0,inplace=True)\n",
    "df.isnull().sum()"
   ]
  },
  {
   "cell_type": "code",
   "execution_count": 7,
   "metadata": {},
   "outputs": [
    {
     "name": "stderr",
     "output_type": "stream",
     "text": [
      "C:\\Users\\Lenovo\\AppData\\Local\\Temp\\ipykernel_8388\\2264705095.py:1: FutureWarning: A value is trying to be set on a copy of a DataFrame or Series through chained assignment using an inplace method.\n",
      "The behavior will change in pandas 3.0. This inplace method will never work because the intermediate object on which we are setting values always behaves as a copy.\n",
      "\n",
      "For example, when doing 'df[col].method(value, inplace=True)', try using 'df.method({col: value}, inplace=True)' or df[col] = df[col].method(value) instead, to perform the operation inplace on the original object.\n",
      "\n",
      "\n",
      "  laid_count = df['Laid_Off_Count'].fillna(0,inplace=True)\n"
     ]
    },
    {
     "data": {
      "text/plain": [
       "Company                       0\n",
       "Location_HQ                   0\n",
       "Industry                      0\n",
       "Laid_Off_Count                0\n",
       "Date                          0\n",
       "Source                        0\n",
       "Funds_Raised                  0\n",
       "Stage                         0\n",
       "Date_Added                    0\n",
       "Country                       0\n",
       "Percentage                    0\n",
       "List_of_Employees_Laid_Off    0\n",
       "dtype: int64"
      ]
     },
     "execution_count": 7,
     "metadata": {},
     "output_type": "execute_result"
    }
   ],
   "source": [
    "laid_count = df['Laid_Off_Count'].fillna(0,inplace=True)\n",
    "df['Laid_Off_Count'] = df['Laid_Off_Count'].astype(int)\n",
    "df.isnull().sum()"
   ]
  },
  {
   "cell_type": "code",
   "execution_count": 8,
   "metadata": {},
   "outputs": [],
   "source": [
    "df.to_csv('processed_layoffs_data.csv')"
   ]
  },
  {
   "cell_type": "code",
   "execution_count": 9,
   "metadata": {},
   "outputs": [
    {
     "data": {
      "text/plain": [
       "Company                       0\n",
       "Location_HQ                   0\n",
       "Industry                      0\n",
       "Laid_Off_Count                0\n",
       "Date                          0\n",
       "Source                        0\n",
       "Funds_Raised                  0\n",
       "Stage                         0\n",
       "Date_Added                    0\n",
       "Country                       0\n",
       "Percentage                    0\n",
       "List_of_Employees_Laid_Off    0\n",
       "dtype: int64"
      ]
     },
     "execution_count": 9,
     "metadata": {},
     "output_type": "execute_result"
    }
   ],
   "source": [
    "df.isnull().sum()"
   ]
  }
 ],
 "metadata": {
  "kernelspec": {
   "display_name": "Python 3",
   "language": "python",
   "name": "python3"
  },
  "language_info": {
   "codemirror_mode": {
    "name": "ipython",
    "version": 3
   },
   "file_extension": ".py",
   "mimetype": "text/x-python",
   "name": "python",
   "nbconvert_exporter": "python",
   "pygments_lexer": "ipython3",
   "version": "3.12.1"
  }
 },
 "nbformat": 4,
 "nbformat_minor": 2
}
